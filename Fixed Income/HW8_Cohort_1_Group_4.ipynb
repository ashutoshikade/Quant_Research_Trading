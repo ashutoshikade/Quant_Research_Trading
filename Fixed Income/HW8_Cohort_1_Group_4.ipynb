{
 "cells": [
  {
   "cell_type": "markdown",
   "metadata": {},
   "source": [
    "### <center>Fixed Income Markets</center>\n",
    "### <center>Homework 8</center>\n",
    "#### <center>Group Members - Ashutosh Ekade, Zechen Liu, Jessica Ghai, Yuetong Li</center>"
   ]
  },
  {
   "cell_type": "markdown",
   "metadata": {},
   "source": [
    "1. When it comes to how the swaps are valued in both cases, then it seems that the Lehman brothers are interpreting the swap agreements based on the conditions that were agreed upon before bankruptcy, emphasizing terms that would favor a lower termination payment or even a receivable in their favor. It is possible that Lehman Brothers is insisting on using the one-month Libor rate plus a specific margin as the benchmark for calculating the floating rate under the swap agreements, consistent with their understanding of the contractual terms before bankruptcy. On the other hand, for Giants Stadium LLC, we have that the company appears to be interpreting the swap agreements differently, potentially arguing that the termination caused by Lehman's bankruptcy allows for a different method of valuation, possibly invoking clauses that adjust the valuation in the event of default or bankruptcy. They might argue for a valuation that considers the market's response to the bankruptcy or different benchmarks for determining the interest rates post-termination. Lehman's valuation might assume more stable or pre-crisis market conditions, focusing on contractual protections they believe were in place to shield them from significant liabilities under the swaps. The company might be assuming lower market volatility or a narrower credit spread, affecting the fixed-to-floating rate differential. Conversely, Giants Stadium's valuation may reflect post-crisis market conditions, including higher volatility and wider credit spreads, especially those attributable to Lehman's bankruptcy. They might assume that the market's perception of risk has significantly changed, impacting the value of the swaps."
   ]
  },
  {
   "cell_type": "markdown",
   "metadata": {},
   "source": [
    "2. When it comes to the Lehman Brothers, one critique could be that Lehman's valuation overly relies on conditions or contractual terms that are favorable to them, which means that they are ignoring market realities or the specific impact their bankruptcy has had on the market. Their technique might not fully account for the actual market conditions at the time of termination, particularly the credit risk and market perception changes post-bankruptcy. On the other hand, the critique against Giants Stadium’s valuation could center on the possibility of inflating the swap's value by leveraging the bankruptcy scenario or interpreting the swap termination clauses in a way that significantly benefits them financially. They may be accused of selecting assumptions or market scenarios that unrealistically escalate the swap's termination value, perhaps by not properly accounting for the existing market rates or the true impact of Lehman's bankruptcy on the swap's conditions."
   ]
  },
  {
   "cell_type": "markdown",
   "metadata": {},
   "source": [
    "3. We have that traditional floating-rate debt typically has interest rates that are reset at regular intervals based on a reference rate like LIBOR. The primary risk for holders is the change in interest rates. If rates rise, the cost of borrowing for the issuer increases, but the value of the floating rate notes to the investor increases due to higher interest payments. On the other hand, auction rate floating rate debt (ARS) has its interest rates reset through periodic auctions. ARS can face liquidity issues if there's a failure in auction mechanisms, leading to interest rates that do not accurately reflect market conditions. Beyond the general interest rate risk, ARS holders face significant liquidity risk and auction failure risk. In the event of failed auctions, investors cannot liquidate their positions and could be stuck with a lower-than-expected interest rate. Moreover, during financial crises or times of high market stress, the risk of auction failures increases, which can lead to widespread valuation and liquidity issues for the securities."
   ]
  },
  {
   "cell_type": "markdown",
   "metadata": {},
   "source": [
    "4. Solution below"
   ]
  },
  {
   "cell_type": "code",
   "execution_count": 14,
   "metadata": {},
   "outputs": [
    {
     "name": "stdout",
     "output_type": "stream",
     "text": [
      "Present value of the fixed leg as of September 15, 2008: 593159080.6687349\n",
      "Present value of the fixed leg as of September 18, 2008: 558491353.8136289\n",
      "Present value of the floating leg as of September 15, 2008: 407559390.625\n",
      "Present value of the floating leg as of September 18, 2008: 407348082.4375\n",
      "Value of the swaps as of September 15, 2008: 185599690.0437349\n",
      "Value of the swaps as of September 18, 2008: 151143271.3761289\n"
     ]
    }
   ],
   "source": [
    "# Given data\n",
    "swap_rates_15th = {\n",
    "    '1M': 0.0250,\n",
    "    '3M': 0.0282,\n",
    "    '6M': 0.0300,\n",
    "    '1Y': 0.0262,\n",
    "    '2Y': 0.0293,\n",
    "    '3Y': 0.0329,\n",
    "    '4Y': 0.0354,\n",
    "    '5Y': 0.0369,\n",
    "    '7Y': 0.0398,\n",
    "    '10Y': 0.0424,\n",
    "    '30Y': 0.0461\n",
    "}\n",
    "\n",
    "swap_rates_18th = {\n",
    "    '1M': 0.0319,\n",
    "    '3M': 0.0320,\n",
    "    '6M': 0.0339,\n",
    "    '1Y': 0.0299,\n",
    "    '2Y': 0.0295,\n",
    "    '3Y': 0.0325,\n",
    "    '4Y': 0.0346,\n",
    "    '5Y': 0.0361,\n",
    "    '7Y': 0.0388,\n",
    "    '10Y': 0.0413,\n",
    "    '30Y': 0.0447\n",
    "}\n",
    "\n",
    "notional_amount = 408325000\n",
    "fixed_rate = 0.061885\n",
    "maturity_year = 2047\n",
    "valuation_year = 2008\n",
    "\n",
    "# all hold is 90% of libor\n",
    "all_hold_rate_15_sep = 0.90 * swap_rates_15th['1M']\n",
    "all_hold_rate_18_sep = 0.90 * swap_rates_18th['1M']\n",
    "\n",
    "# we will assume the 3-month LIBOR rate as the discount rate for all future cash flows\n",
    "discount_rate_15_sep = swap_rates_15th['3M']\n",
    "discount_rate_18_sep = swap_rates_18th['3M']\n",
    "\n",
    "# find PV\n",
    "def present_value(rate, days, notional):\n",
    "    return (1 - rate * days / 360) * notional\n",
    "\n",
    "# find NPV\n",
    "def calculate_npv(rate, cash_flows):\n",
    "    npv = 0\n",
    "    for i, cash_flow in enumerate(cash_flows, start=1):\n",
    "        npv += cash_flow / ((1 + rate) ** i)\n",
    "    return npv\n",
    "\n",
    "# years to maturity\n",
    "ytm = maturity_year - valuation_year\n",
    "\n",
    "# pv of fixed leg\n",
    "fixed_leg_cash_flows = [fixed_rate * notional_amount] * ytm\n",
    "fixed_leg_pv_15_sep = calculate_npv(discount_rate_15_sep, fixed_leg_cash_flows)\n",
    "fixed_leg_pv_18_sep = calculate_npv(discount_rate_18_sep, fixed_leg_cash_flows)\n",
    "\n",
    "# pv of floating leg\n",
    "floating_leg_pv_15_sep = present_value(all_hold_rate_15_sep, 30, notional_amount)\n",
    "floating_leg_pv_18_sep = present_value(all_hold_rate_18_sep, 30, notional_amount)\n",
    "\n",
    "# value of swaps\n",
    "swap_value_15_sep = fixed_leg_pv_15_sep - floating_leg_pv_15_sep\n",
    "swap_value_18_sep = fixed_leg_pv_18_sep - floating_leg_pv_18_sep\n",
    "\n",
    "print(\"Present value of the fixed leg as of September 15, 2008:\", fixed_leg_pv_15_sep)\n",
    "print(\"Present value of the fixed leg as of September 18, 2008:\", fixed_leg_pv_18_sep)\n",
    "print(\"Present value of the floating leg as of September 15, 2008:\", floating_leg_pv_15_sep)\n",
    "print(\"Present value of the floating leg as of September 18, 2008:\", floating_leg_pv_18_sep)\n",
    "print(\"Value of the swaps as of September 15, 2008:\", swap_value_15_sep)\n",
    "print(\"Value of the swaps as of September 18, 2008:\", swap_value_18_sep)"
   ]
  },
  {
   "cell_type": "markdown",
   "metadata": {},
   "source": [
    "My assumptions: Assumed constant discount rate for all maturities for easier calculation.\n",
    "I would have considered the given numbers for the respective tenures and interpolated the nearest discount factors for anything in between for which numbers are not available."
   ]
  },
  {
   "cell_type": "markdown",
   "metadata": {},
   "source": [
    "5. Solution below"
   ]
  },
  {
   "cell_type": "code",
   "execution_count": 13,
   "metadata": {},
   "outputs": [
    {
     "name": "stdout",
     "output_type": "stream",
     "text": [
      "Present value of the fixed leg as of September 18, 2008: 558491353.8136289\n",
      "Present value of the floating leg as of September 18, 2008: 289146982.1045027\n",
      "Value of the swaps on September 18, 2008: 269344371.70912623\n"
     ]
    }
   ],
   "source": [
    "# 1 month libor + spread\n",
    "libor_rate_on_termination = swap_rates_18th['1M'] + 0.003185\n",
    "\n",
    "# Calculate the floating leg cash flows with the new LIBOR rate plus the spread\n",
    "# Assuming the first payment includes the additional spread and subsequent payments use the 3-month LIBOR rate.\n",
    "floating_leg_cash_flows = [libor_rate_on_termination * notional_amount] + \\\n",
    "                          [swap_rates_18th['1M'] * notional_amount for year in range(ytm - 1)]\n",
    "\n",
    "# Present value of the floating leg cash flows on the termination date\n",
    "pv_floating_leg_on_termination = calculate_npv(discount_rate_18_sep, floating_leg_cash_flows)\n",
    "\n",
    "# The value of the swaps is the present value of the fixed leg minus the present value of the floating leg on the termination date\n",
    "swap_value_on_termination = fixed_leg_pv_18_sep - pv_floating_leg_on_termination\n",
    "\n",
    "# Print the results\n",
    "print(\"Present value of the fixed leg as of September 18, 2008:\", fixed_leg_pv_18_sep)\n",
    "print(\"Present value of the floating leg as of September 18, 2008:\", pv_floating_leg_on_termination)\n",
    "print(\"Value of the swaps on September 18, 2008:\", swap_value_on_termination)"
   ]
  },
  {
   "cell_type": "markdown",
   "metadata": {},
   "source": [
    "6. Solution below"
   ]
  },
  {
   "cell_type": "code",
   "execution_count": 11,
   "metadata": {},
   "outputs": [
    {
     "name": "stdout",
     "output_type": "stream",
     "text": [
      "Present value of the fixed leg as of September 18, 2008: 558491353.8136289\n",
      "Present value of the floating leg as of September 18, 2008 using the fixed floating rate: 917808365.2394934\n",
      "Value of the swaps as of September 18, 2008 using Giants Stadium's method: -359317011.42586446\n"
     ]
    }
   ],
   "source": [
    "# Given data from the user for the specific scenario of Giants Stadium\n",
    "last_auction_rate = 10.17 / 100  # Convert percentage to decimal\n",
    "\n",
    "# Calculate the cash flows for the floating leg based on the fixed floating rate\n",
    "# Assuming the floating rate remains constant for the remaining life of the swap\n",
    "floating_leg_cash_flows_fixed_rate = [last_auction_rate * notional_amount for _ in range(ytm)]\n",
    "\n",
    "# Present value of the floating leg cash flows on the termination date using the fixed floating rate\n",
    "pv_floating_leg_fixed_rate = calculate_npv(discount_rate_18_sep, floating_leg_cash_flows_fixed_rate)\n",
    "\n",
    "# Calculate the value of the swaps on the termination date using Giants Stadium's method\n",
    "swap_value_giants_method = fixed_leg_pv_18_sep - pv_floating_leg_fixed_rate\n",
    "\n",
    "# Print the results\n",
    "print(\"Present value of the fixed leg as of September 18, 2008:\", fixed_leg_pv_18_sep)\n",
    "print(\"Present value of the floating leg as of September 18, 2008 using the fixed floating rate:\", pv_floating_leg_fixed_rate)\n",
    "print(\"Value of the swaps as of September 18, 2008 using Giants Stadium's method:\", swap_value_giants_method)"
   ]
  },
  {
   "cell_type": "markdown",
   "metadata": {},
   "source": [
    "7. Factors that could influence the valuation of the swaps include the overall liquidity in the market, changes in credit spreads, particularly those of Lehman Brothers and related entities, the general availability of credit post-crisis, changes in the underlying rate (from auction rate to Libor, for instance), and legal uncertainties or contractual interpretations arising from Lehman's bankruptcy filing. The terms of collateralization and the specifics of swap agreements, including fallback provisions and benchmark rates, also play critical roles in determining the value of swaps in this new, more risk-averse environment. The unprecedented market conditions following the Lehman collapse, including significant shifts in interest rates and credit risk perceptions, would also play a critical role in re-evaluating the swaps' worth."
   ]
  }
 ],
 "metadata": {
  "kernelspec": {
   "display_name": "Python 3",
   "language": "python",
   "name": "python3"
  },
  "language_info": {
   "codemirror_mode": {
    "name": "ipython",
    "version": 3
   },
   "file_extension": ".py",
   "mimetype": "text/x-python",
   "name": "python",
   "nbconvert_exporter": "python",
   "pygments_lexer": "ipython3",
   "version": "3.9.6"
  }
 },
 "nbformat": 4,
 "nbformat_minor": 2
}
