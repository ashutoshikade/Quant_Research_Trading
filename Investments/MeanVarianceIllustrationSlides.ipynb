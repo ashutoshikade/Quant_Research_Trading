{
  "cells": [
    {
      "cell_type": "code",
      "source": [
        "import numpy as np\n",
        "from scipy.optimize import minimize"
      ],
      "outputs": [],
      "execution_count": 1,
      "metadata": {
        "id": "GdcYdnTSr8Pm"
      }
    },
    {
      "cell_type": "code",
      "source": [
        "# Inputs and MV function\n",
        "μ = np.array([0.02, 0.06, 0.03])                          # mean vector\n",
        "Σ = np.array([[0.01, 0,    0],\n",
        "              [0,    0.04, 0],\n",
        "              [0,    0,    0.0225]])                      # covariance matrix\n",
        "N = len(μ)                                                # number of assets\n",
        "one = np.zeros(N) + 1                                     # vector of ones\n",
        "\n",
        "# MV function\n",
        "fun = lambda w: 0.5 * w.T @ Σ @ w                         # goal function"
      ],
      "outputs": [],
      "execution_count": 2,
      "metadata": {
        "id": "ZuGjhoMNr8Pq"
      }
    },
    {
      "cell_type": "code",
      "source": [
        "# GMV constraint\n",
        "cons = ({'type': 'eq', 'fun': lambda w: w.T @ one - 1})   # sum of weights\n",
        "\n",
        "# Run GMV optimization for unbounded portfolio\n",
        "res = minimize(fun, [1/N]*N, method='SLSQP', constraints=cons)\n",
        "print(\"GMV portfolio weights (stocks, bonds, and gold) =\", res.x.round(2))"
      ],
      "outputs": [],
      "execution_count": null,
      "metadata": {
        "id": "XslMmasjuXIJ"
      }
    },
    {
      "cell_type": "code",
      "source": [
        "# MV constraints\n",
        "cons = ({'type': 'eq', 'fun': lambda w: w.T @ one - 1},   # sum of weights\n",
        "        {'type': 'eq', 'fun': lambda w: w.T @ μ - μ_p})   # target mean\n",
        "\n",
        "# Run MV optimization for unbounded portfolio at target\n",
        "μ_p = 0.055                                               # target mean of 5.5%\n",
        "res = minimize(fun, [1/N]*N, method='SLSQP', constraints=cons)\n",
        "print(\"MV weights for target of 5.5%                   =\", res.x.round(2))\n",
        "\n",
        "# Run MV optimization for bounded portfolio at target\n",
        "μ_p = 0.055                                               # target mean of 5.5%\n",
        "bnds = ((0,None),)*N                                      # bounds\n",
        "res = minimize(fun, [1/N]*N, method='SLSQP', constraints=cons, bounds=bnds)\n",
        "print(\"MV weights for target of 5.5% (no short sales)  =\", res.x.round(2))"
      ],
      "outputs": [],
      "execution_count": null,
      "metadata": {
        "id": "bNBMs1GRGzcG"
      }
    }
  ],
  "metadata": {
    "kernelspec": {
      "display_name": "Python 3 (ipykernel)",
      "language": "python",
      "name": "python3"
    },
    "language_info": {
      "codemirror_mode": {
        "name": "ipython",
        "version": 3
      },
      "file_extension": ".py",
      "mimetype": "text/x-python",
      "name": "python",
      "nbconvert_exporter": "python",
      "pygments_lexer": "ipython3",
      "version": "3.11.4"
    },
    "nteract": {
      "version": "0.28.0"
    },
    "colab": {
      "provenance": []
    }
  },
  "nbformat": 4,
  "nbformat_minor": 0
}