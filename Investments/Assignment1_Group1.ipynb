{
  "nbformat": 4,
  "nbformat_minor": 0,
  "metadata": {
    "colab": {
      "provenance": []
    },
    "kernelspec": {
      "name": "python3",
      "display_name": "Python 3"
    },
    "language_info": {
      "name": "python"
    }
  },
  "cells": [
    {
      "cell_type": "markdown",
      "source": [
        "Assignment 1\n",
        "\n",
        "Names\n",
        "\n"
      ],
      "metadata": {
        "id": "rgGr-vFlQVxJ"
      }
    },
    {
      "cell_type": "markdown",
      "source": [
        "#Question 1\n",
        "\n",
        "a.) Future Value of $amount$ after $n$ years = amount (1 + $interest$) **  $years$\n",
        "\n",
        "b.) APR = 0.04 quarterly compounding\n",
        "\n",
        "  periodic_rate = 0.04 / 4 = 0.01\n",
        "\n",
        "  future_value = $amount$ * (1 + periodic_rate) ** (4 * $years$)\n",
        "\n",
        "c.) APR = 0.04 monthly compounding\n",
        "\n",
        "  periodic_rate = 0.04 / 12 = 0.00333\n",
        "\n",
        "  future_value = $amount$ * (1 + periodic_rate) ** (12 * $years$)"
      ],
      "metadata": {
        "id": "vc1Sj_x69ye3"
      }
    },
    {
      "cell_type": "markdown",
      "source": [],
      "metadata": {
        "id": "JQu-44Ey9xij"
      }
    },
    {
      "cell_type": "code",
      "source": [
        "# question 1a\n",
        "amount = 200000 # investment amount\n",
        "n = 2 # number of years\n",
        "interest = 0.04 # interest offered by the bank on the Certificate of Deposit\n",
        "fv = amount * (1 + interest)** n\n",
        "print(\"Future value of ${:.2f} after {} years if compunded annually is: ${:.2f}\".format(amount, n, fv))"
      ],
      "metadata": {
        "colab": {
          "base_uri": "https://localhost:8080/"
        },
        "id": "73emMu4-9vAB",
        "outputId": "c72f46ca-b605-4459-9e45-686113cbe820"
      },
      "execution_count": null,
      "outputs": [
        {
          "output_type": "stream",
          "name": "stdout",
          "text": [
            "Future value of $200000.00 after 2 years if compunded annually is: $216320.00\n"
          ]
        }
      ]
    },
    {
      "cell_type": "code",
      "source": [
        "# question 1b\n",
        "apr = 0.04\n",
        "compounding_period = \"quarterly\"\n",
        "periodic_rate_quarterly = apr / 4  # for quarterly compuding frequency we divide the interest by 4\n",
        "fv = amount * (1 + periodic_rate_quarterly) ** (4 * n)\n",
        "print(\"Future value of ${:.2f} after {} years if compunded quarterly is: ${:.2f}\".format(amount, n, fv))"
      ],
      "metadata": {
        "colab": {
          "base_uri": "https://localhost:8080/"
        },
        "id": "RU2fUy0oBCIY",
        "outputId": "f3bb3ccd-62a0-4882-a95f-526b521e3314"
      },
      "execution_count": null,
      "outputs": [
        {
          "output_type": "stream",
          "name": "stdout",
          "text": [
            "Future value of $200000.00 after 2 years if compunded quarterly is: $216571.34\n"
          ]
        }
      ]
    },
    {
      "cell_type": "code",
      "source": [
        "# question 1c\n",
        "apr = 0.04\n",
        "compounding_period = \"monthly\"\n",
        "periodic_rate_quarterly = apr / 12 # for monthly compuding frequency we divide the interest by 12\n",
        "fv = amount * (1 + periodic_rate_quarterly) ** (12 * n)\n",
        "print(\"Future value of ${:.2f} after {} years if compunded quarterly is: ${:.2f}\".format(amount, n, fv))"
      ],
      "metadata": {
        "colab": {
          "base_uri": "https://localhost:8080/"
        },
        "id": "qaxUcTf3B44U",
        "outputId": "80395341-3c63-459b-c4c1-a5b91a863aa6"
      },
      "execution_count": null,
      "outputs": [
        {
          "output_type": "stream",
          "name": "stdout",
          "text": [
            "Future value of $200000.00 after 2 years if compunded quarterly is: $216628.59\n"
          ]
        }
      ]
    },
    {
      "cell_type": "markdown",
      "source": [
        "# Question 2\n",
        "\n",
        "Annual earnings is \\$100,000 for the next 35 years. Savings are 45% of the earnings. Thus, effective annual invetsment amount is \\$45,000.\n",
        "\n",
        "rate of interest is (r) = 2%\n",
        "\n",
        "n = 35 years\n",
        "\n",
        "a.) Here we have an annuity due of $45000 each year and we have to calculate the future value (X) of these abbuity dues after 35 years.\n",
        "\n",
        "Future Value (X) = amount * (((1 + r)**n - 1) / r)\n",
        "\n",
        "\n",
        "\n",
        "b.) We are supposed to solve for the annuity payment of 20 years which will equate to a present value of the amount we arived in part a.\n",
        "\n",
        "PV (X) = amount * (1 - (1 / (1+r)**n)) / r\n",
        "\n",
        "Here we know the present value which is the value we have saved after 35 years, we have to solve for 'amount', given n and r.\n",
        "\n",
        "Thus, amount = X / ((1 - (1 / (1+r)**n)) / r)"
      ],
      "metadata": {
        "id": "czneRkrlD3Ql"
      }
    },
    {
      "cell_type": "code",
      "source": [
        "# Question 2a\n",
        "\n",
        "n = 35\n",
        "r = 0.02\n",
        "amount = 45000\n",
        "X = amount * (((1 + r)**n - 1) / r)\n",
        "print(\"${:.2f} saved annually at a rate of {}% sums up to ${:.2f} after {} years\".format(amount, r*100, fv, n))"
      ],
      "metadata": {
        "colab": {
          "base_uri": "https://localhost:8080/"
        },
        "id": "1ZFGsHHNG6mM",
        "outputId": "44b9e4f6-beb4-428d-9fb4-6a6143140b5c"
      },
      "execution_count": null,
      "outputs": [
        {
          "output_type": "stream",
          "name": "stdout",
          "text": [
            "$45000.00 saved annually at a rate of 2.0% sums up to $2249751.49 after 35 years\n"
          ]
        }
      ]
    },
    {
      "cell_type": "code",
      "source": [
        "# Question 2b\n",
        "n = 20\n",
        "amount = X / (1 - (1 / (1 + r) ** n - 1) / r)\n",
        "print(\"If we save 45% of the earnings annually at the rate of {}% for 35 years, we can spend ${:.2f} every year for the next 20 years\".format(r*100, amount))"
      ],
      "metadata": {
        "colab": {
          "base_uri": "https://localhost:8080/"
        },
        "id": "X0tc2n4uIDlW",
        "outputId": "a2d4c258-f712-4a32-9da5-d58c594f5e47"
      },
      "execution_count": null,
      "outputs": [
        {
          "output_type": "stream",
          "name": "stdout",
          "text": [
            "If we save 45% of the earnings annually at the rate of 2.0% for 35 years, we can spend $129657.96 every year for the next 20 years\n"
          ]
        }
      ]
    },
    {
      "cell_type": "markdown",
      "source": [
        "#Question 3\n",
        "\n"
      ],
      "metadata": {
        "id": "GrwJy05d16hE"
      }
    },
    {
      "cell_type": "code",
      "source": [
        "# Question 3\n",
        "\n",
        "# (a)\n",
        "y=(1+0.03/12)**12-1\n",
        "print(f\"(a) The effective annual rate is {round(y, 4)}\")\n",
        "# (b)\n",
        "y=0.03\n",
        "c=500000*(y/12)/(1-1/((1+y/12)**360))\n",
        "print(f\"(b) The monthly payment is {round(c, 4)}\")\n",
        "# (c)\n",
        "fv=c*(1-1/((1+y/12)**340))/(y/12)\n",
        "print(f\"(c) After the 20th monthly payment, I still owe the bank {round(fv, 4)}\")\n"
      ],
      "metadata": {
        "id": "zfrCCkeNQLtd",
        "colab": {
          "base_uri": "https://localhost:8080/"
        },
        "outputId": "5459511b-7cb7-43b1-8763-2c3540956dfa"
      },
      "execution_count": null,
      "outputs": [
        {
          "output_type": "stream",
          "name": "stdout",
          "text": [
            "(a) The effective annual rate is 0.0304\n",
            "(b) The monthly payment is 2108.0202\n",
            "(c) After the 20th monthly payment, I still owe the bank 482425.8582\n"
          ]
        }
      ]
    },
    {
      "cell_type": "markdown",
      "source": [
        "#Question 4"
      ],
      "metadata": {
        "id": "8QcdRPWT4T2P"
      }
    },
    {
      "cell_type": "code",
      "source": [
        "#(a)\n",
        "100/(1+0.03)**3"
      ],
      "metadata": {
        "colab": {
          "base_uri": "https://localhost:8080/"
        },
        "id": "Uh_2OHiy4Yg1",
        "outputId": "8b8a15a1-71e9-4857-aad5-a761bc8ef0a2"
      },
      "execution_count": null,
      "outputs": [
        {
          "output_type": "execute_result",
          "data": {
            "text/plain": [
              "91.51416593531596"
            ]
          },
          "metadata": {},
          "execution_count": 8
        }
      ]
    },
    {
      "cell_type": "code",
      "source": [
        "#(b)\n",
        "(1/0.025)*(1-(1/(1+0.025)**2))+(100/(1+0.025)**2)"
      ],
      "metadata": {
        "colab": {
          "base_uri": "https://localhost:8080/"
        },
        "id": "hMfWPrxx4m4c",
        "outputId": "faf11e7e-6218-49eb-9f68-0a47c05426a8"
      },
      "execution_count": null,
      "outputs": [
        {
          "output_type": "execute_result",
          "data": {
            "text/plain": [
              "97.10886377156454"
            ]
          },
          "metadata": {},
          "execution_count": 5
        }
      ]
    },
    {
      "cell_type": "code",
      "source": [
        "#(c)\n",
        "(13/0.035)*(1-(1/(1+0.035)**4))+(100/(1+0.035)**4)"
      ],
      "metadata": {
        "colab": {
          "base_uri": "https://localhost:8080/"
        },
        "id": "QNzIt4T74qqJ",
        "outputId": "7d01a1cc-16e4-4038-d614-fb3df74c5cbd"
      },
      "execution_count": null,
      "outputs": [
        {
          "output_type": "execute_result",
          "data": {
            "text/plain": [
              "134.89425248181607"
            ]
          },
          "metadata": {},
          "execution_count": 9
        }
      ]
    },
    {
      "cell_type": "markdown",
      "source": [
        "## Question 5\n",
        "---\n",
        "\n",
        "(a) Present value of X :\n",
        "\n",
        "$pv_x = 98.98 = \\frac{101.5}{1+\\frac{sARP_a}{2}}$\n",
        "\n",
        "Noting $sAPR_a$ the APR of X with semi annual coupounding :\n",
        "\n",
        "$sARP_a = 2(\\frac{101.5}{98.98}-1)$\n",
        "\n",
        "(b) Present value of Y :\n",
        "\n",
        "$pv_y = 98.59 = \\frac{104}{1+EAR}$\n",
        "\n",
        "So $EAR = (\\frac{104}{98.59}-1)$\n",
        "\n",
        "Noting $sAPR_b$ the APR of Y with semi annual coupounding :\n",
        "\n",
        "$sAPR_b = 2((1+EAR)^{1/2} - 1)$"
      ],
      "metadata": {
        "id": "nGG4hLdgaGZY"
      }
    },
    {
      "cell_type": "code",
      "source": [
        "# Question 5 - Numerical application\n",
        "\n",
        "# (a)\n",
        "sAPR_a = (101.5/98.98 - 1)\n",
        "print(f\"(a) APR with semi-annual coupounding is {round(sAPR_a, 4)}\")\n",
        "\n",
        "# (b)\n",
        "from scipy.optimize import fsolve\n",
        "\n",
        "pv_b = fsolve(lambda y: 2/(1+y/2) + 102/((1+y/2)**2), 0.1)[0]\n",
        "pv_b\n",
        "# EAR_b = (104/98.59 - 1)\n",
        "# sAPR_b = 2*((1+EAR_b)**0.5 - 1)\n",
        "# print(f\"(b) APR with semi-annual coupounding is {round(sAPR_b, 4)}\")"
      ],
      "metadata": {
        "colab": {
          "base_uri": "https://localhost:8080/"
        },
        "id": "JXTtdxDPZ42e",
        "outputId": "ef4e6ddc-a0f7-4594-f7bb-f8bc9ab2e2d9"
      },
      "execution_count": null,
      "outputs": [
        {
          "output_type": "stream",
          "name": "stdout",
          "text": [
            "(a) APR with semi-annual coupounding is 0.0255\n"
          ]
        },
        {
          "output_type": "execute_result",
          "data": {
            "text/plain": [
              "1.9002151178800514e+82"
            ]
          },
          "metadata": {},
          "execution_count": 12
        }
      ]
    },
    {
      "cell_type": "code",
      "source": [
        "# (a)\n",
        "P = 5 / (1 + 0.05) + 5 / (1 + 0.06) ** 2 + 105 / (1 + 0.07) ** 3\n",
        "print(f\"(a) Bond price is {round(P, 4)}\")\n",
        "\n",
        "from scipy.optimize import fsolve\n",
        "y = fsolve(lambda y:5 / (1 + y) + 5 / (1 + y) ** 2 + 105 / (1 + y) ** 3 - P, 0.01)[0]\n",
        "print(f\"    Yield to maturity is {round(y, 4)}\")\n",
        "\n",
        "# (b)\n",
        "f01 = 0.05\n",
        "f12 = (1 + 0.06) ** 2 / (1 + 0.05) - 1\n",
        "f23 = (1 + 0.07) ** 3 / (1 + 0.06) ** 2 - 1\n",
        "print(f\"(b) Forward rate from stage 0 to stage 1 is {round(f01, 4)}\")\n",
        "print(f\"    Forward rate from stage 1 to stage 2 is {round(f12, 4)}\")\n",
        "print(f\"    Forward rate from stage 2 to stage 3 is {round(f23, 4)}\")\n",
        "\n",
        "# (c)\n",
        "p = 5 * (1 + f12) * (1 + f23) + 5 * (1 + f23) + 105\n",
        "r = (p - 100) / 100\n",
        "print(f\"(c) Guaranteed 3-year return is {round(r, 4)}\")"
      ],
      "metadata": {
        "colab": {
          "base_uri": "https://localhost:8080/"
        },
        "id": "TdcABELU520y",
        "outputId": "69b42c38-25b0-4a3a-88c4-32bfdab5acfc"
      },
      "execution_count": null,
      "outputs": [
        {
          "output_type": "stream",
          "name": "stdout",
          "text": [
            "(a) Bond price is 94.9232\n",
            "    Yield to maturity is 2.4765\n",
            "(b) Forward rate from stage 0 to stage 1 is 0.05\n",
            "    Forward rate from stage 1 to stage 2 is 0.0701\n",
            "    Forward rate from stage 2 to stage 3 is 5.0566\n",
            "(c) Guaranteed 3-year return is 0.6769\n"
          ]
        }
      ]
    }
  ]
}